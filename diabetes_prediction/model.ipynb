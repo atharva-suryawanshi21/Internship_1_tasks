{
 "cells": [
  {
   "cell_type": "markdown",
   "metadata": {},
   "source": [
    "### Import relevant libraries\n"
   ]
  },
  {
   "cell_type": "code",
   "execution_count": 9,
   "metadata": {},
   "outputs": [],
   "source": [
    "import numpy as np\n",
    "import tensorflow as tf\n",
    "import matplotlib.pyplot as plt\n",
    "import seaborn as sns\n",
    "\n",
    "from sklearn.linear_model import LogisticRegression\n",
    "from sklearn.metrics import accuracy_score, confusion_matrix, classification_report"
   ]
  },
  {
   "cell_type": "markdown",
   "metadata": {},
   "source": [
    "### Get data\n"
   ]
  },
  {
   "cell_type": "code",
   "execution_count": 10,
   "metadata": {},
   "outputs": [],
   "source": [
    "npz = np.load('train_data.npz', allow_pickle=True)\n",
    "\n",
    "train_inputs = npz['inputs'].astype(float)\n",
    "train_targets = npz['targets'].astype(float)\n",
    "# astype() creates a copy of the array, cast to a specific type\n",
    "# to ensure our model learns correctly we accept all inputs to be float\n",
    "# even though our targets are 0 and 1, we are not completely certain that they will extracted as integers, floats or booleans, so we cast targets too\n",
    "\n",
    "npz = np.load('validation_data.npz', allow_pickle=True)\n",
    "\n",
    "validation_inputs = npz['inputs'].astype(float)\n",
    "validation_targets = npz['targets'].astype(float)\n",
    "\n",
    "npz = np.load('test_data.npz', allow_pickle=True)\n",
    "\n",
    "test_inputs , test_targets = npz['inputs'].astype(float) , npz['targets'].astype(float)"
   ]
  },
  {
   "cell_type": "markdown",
   "metadata": {},
   "source": [
    "### Models\n"
   ]
  },
  {
   "cell_type": "markdown",
   "metadata": {},
   "source": [
    "##### 1. Logistic Regression\n"
   ]
  },
  {
   "cell_type": "code",
   "execution_count": 11,
   "metadata": {},
   "outputs": [
    {
     "name": "stdout",
     "output_type": "stream",
     "text": [
      "Accuracy: 0.79\n",
      "Confusion Matrix:\n",
      "[[46  5]\n",
      " [11 15]]\n",
      "Classification Report:\n",
      "              precision    recall  f1-score   support\n",
      "\n",
      "         0.0       0.81      0.90      0.85        51\n",
      "         1.0       0.75      0.58      0.65        26\n",
      "\n",
      "    accuracy                           0.79        77\n",
      "   macro avg       0.78      0.74      0.75        77\n",
      "weighted avg       0.79      0.79      0.78        77\n",
      "\n"
     ]
    }
   ],
   "source": [
    "model = LogisticRegression()\n",
    "\n",
    "combined_train_features = np.concatenate((train_inputs, validation_inputs), axis = 0)\n",
    "combined_train_targets = np.concatenate((train_targets, validation_targets), axis = 0)\n",
    "\n",
    "model.fit(combined_train_features, combined_train_targets)\n",
    "\n",
    "# Predicting on the test set\n",
    "y_pred = model.predict(test_inputs)\n",
    "\n",
    "# Evaluate model performance\n",
    "lr_accuracy = accuracy_score(test_targets, y_pred)\n",
    "conf_matrix = confusion_matrix(test_targets, y_pred)\n",
    "class_report = classification_report(test_targets, y_pred)\n",
    "\n",
    "print(f'Accuracy: {lr_accuracy:.2f}')\n",
    "print(f'Confusion Matrix:\\n{conf_matrix}')\n",
    "print(f'Classification Report:\\n{class_report}')"
   ]
  },
  {
   "cell_type": "markdown",
   "metadata": {},
   "source": [
    "##### 2. Decision tree classifier\n"
   ]
  },
  {
   "cell_type": "code",
   "execution_count": 12,
   "metadata": {},
   "outputs": [
    {
     "name": "stdout",
     "output_type": "stream",
     "text": [
      "Accuracy: 0.74\n",
      "Confusion Matrix:\n",
      "[[38 13]\n",
      " [ 7 19]]\n",
      "Classification Report:\n",
      "              precision    recall  f1-score   support\n",
      "\n",
      "         0.0       0.84      0.75      0.79        51\n",
      "         1.0       0.59      0.73      0.66        26\n",
      "\n",
      "    accuracy                           0.74        77\n",
      "   macro avg       0.72      0.74      0.72        77\n",
      "weighted avg       0.76      0.74      0.75        77\n",
      "\n"
     ]
    }
   ],
   "source": [
    "from sklearn.tree import DecisionTreeClassifier\n",
    "\n",
    "# Initialize Decision Tree model\n",
    "model = DecisionTreeClassifier()\n",
    "\n",
    "# Combine train and validation sets\n",
    "combined_train_features = np.concatenate((train_inputs, validation_inputs), axis=0)\n",
    "combined_train_targets = np.concatenate((train_targets, validation_targets), axis=0)\n",
    "\n",
    "# Train the model on combined data\n",
    "model.fit(combined_train_features, combined_train_targets)\n",
    "\n",
    "# Predicting on the test set\n",
    "y_pred = model.predict(test_inputs)\n",
    "\n",
    "# Evaluate model performance\n",
    "dt_accuracy = accuracy_score(test_targets, y_pred)\n",
    "conf_matrix = confusion_matrix(test_targets, y_pred)\n",
    "class_report = classification_report(test_targets, y_pred)\n",
    "\n",
    "print(f'Accuracy: {dt_accuracy:.2f}')\n",
    "print(f'Confusion Matrix:\\n{conf_matrix}')\n",
    "print(f'Classification Report:\\n{class_report}')\n"
   ]
  },
  {
   "cell_type": "markdown",
   "metadata": {},
   "source": [
    "##### 3. Random Forest\n"
   ]
  },
  {
   "cell_type": "code",
   "execution_count": 13,
   "metadata": {},
   "outputs": [
    {
     "name": "stdout",
     "output_type": "stream",
     "text": [
      "Accuracy: 0.78\n",
      "Confusion Matrix:\n",
      "[[42  9]\n",
      " [ 8 18]]\n",
      "Classification Report:\n",
      "              precision    recall  f1-score   support\n",
      "\n",
      "         0.0       0.84      0.82      0.83        51\n",
      "         1.0       0.67      0.69      0.68        26\n",
      "\n",
      "    accuracy                           0.78        77\n",
      "   macro avg       0.75      0.76      0.76        77\n",
      "weighted avg       0.78      0.78      0.78        77\n",
      "\n"
     ]
    }
   ],
   "source": [
    "from sklearn.ensemble import RandomForestClassifier\n",
    "\n",
    "# Initialize Random Forest model\n",
    "model = RandomForestClassifier()\n",
    "\n",
    "# Combine train and validation sets\n",
    "combined_train_features = np.concatenate((train_inputs, validation_inputs), axis=0)\n",
    "combined_train_targets = np.concatenate((train_targets, validation_targets), axis=0)\n",
    "\n",
    "# Train the model on combined data\n",
    "model.fit(combined_train_features, combined_train_targets)\n",
    "\n",
    "# Predicting on the test set\n",
    "y_pred = model.predict(test_inputs)\n",
    "\n",
    "# Evaluate model performance\n",
    "rf_accuracy = accuracy_score(test_targets, y_pred)\n",
    "conf_matrix = confusion_matrix(test_targets, y_pred)\n",
    "class_report = classification_report(test_targets, y_pred)\n",
    "\n",
    "print(f'Accuracy: {rf_accuracy:.2f}')\n",
    "print(f'Confusion Matrix:\\n{conf_matrix}')\n",
    "print(f'Classification Report:\\n{class_report}')\n"
   ]
  },
  {
   "cell_type": "markdown",
   "metadata": {},
   "source": [
    "##### 4. Support Vector Machine\n"
   ]
  },
  {
   "cell_type": "code",
   "execution_count": 14,
   "metadata": {},
   "outputs": [
    {
     "name": "stdout",
     "output_type": "stream",
     "text": [
      "Accuracy: 0.81\n",
      "Confusion Matrix:\n",
      "[[47  4]\n",
      " [11 15]]\n",
      "Classification Report:\n",
      "              precision    recall  f1-score   support\n",
      "\n",
      "         0.0       0.81      0.92      0.86        51\n",
      "         1.0       0.79      0.58      0.67        26\n",
      "\n",
      "    accuracy                           0.81        77\n",
      "   macro avg       0.80      0.75      0.76        77\n",
      "weighted avg       0.80      0.81      0.80        77\n",
      "\n"
     ]
    }
   ],
   "source": [
    "from sklearn.svm import SVC\n",
    "\n",
    "# Initialize SVM model\n",
    "model = SVC()\n",
    "\n",
    "# Combine train and validation sets\n",
    "combined_train_features = np.concatenate((train_inputs, validation_inputs), axis=0)\n",
    "combined_train_targets = np.concatenate((train_targets, validation_targets), axis=0)\n",
    "\n",
    "# Train the model on combined data\n",
    "model.fit(combined_train_features, combined_train_targets)\n",
    "\n",
    "# Predicting on the test set\n",
    "y_pred = model.predict(test_inputs)\n",
    "\n",
    "# Evaluate model performance\n",
    "svm_accuracy = accuracy_score(test_targets, y_pred)\n",
    "conf_matrix = confusion_matrix(test_targets, y_pred)\n",
    "class_report = classification_report(test_targets, y_pred)\n",
    "\n",
    "print(f'Accuracy: {svm_accuracy:.2f}')\n",
    "print(f'Confusion Matrix:\\n{conf_matrix}')\n",
    "print(f'Classification Report:\\n{class_report}')\n"
   ]
  },
  {
   "cell_type": "markdown",
   "metadata": {},
   "source": [
    "##### 5. Neural Network\n"
   ]
  },
  {
   "cell_type": "code",
   "execution_count": 15,
   "metadata": {},
   "outputs": [
    {
     "name": "stdout",
     "output_type": "stream",
     "text": [
      "Epoch 1/50\n"
     ]
    },
    {
     "name": "stderr",
     "output_type": "stream",
     "text": [
      "c:\\Users\\Atharva\\Anaconda3\\envs\\py_tf\\Lib\\site-packages\\keras\\src\\layers\\core\\dense.py:87: UserWarning: Do not pass an `input_shape`/`input_dim` argument to a layer. When using Sequential models, prefer using an `Input(shape)` object as the first layer in the model instead.\n",
      "  super().__init__(activity_regularizer=activity_regularizer, **kwargs)\n"
     ]
    },
    {
     "name": "stdout",
     "output_type": "stream",
     "text": [
      "\u001b[1m19/19\u001b[0m \u001b[32m━━━━━━━━━━━━━━━━━━━━\u001b[0m\u001b[37m\u001b[0m \u001b[1m1s\u001b[0m 6ms/step - accuracy: 0.6050 - loss: 0.6796 - val_accuracy: 0.6860 - val_loss: 0.6300\n",
      "Epoch 2/50\n",
      "\u001b[1m19/19\u001b[0m \u001b[32m━━━━━━━━━━━━━━━━━━━━\u001b[0m\u001b[37m\u001b[0m \u001b[1m0s\u001b[0m 2ms/step - accuracy: 0.6609 - loss: 0.6293 - val_accuracy: 0.7674 - val_loss: 0.5858\n",
      "Epoch 3/50\n",
      "\u001b[1m19/19\u001b[0m \u001b[32m━━━━━━━━━━━━━━━━━━━━\u001b[0m\u001b[37m\u001b[0m \u001b[1m0s\u001b[0m 2ms/step - accuracy: 0.7040 - loss: 0.6029 - val_accuracy: 0.7791 - val_loss: 0.5318\n",
      "Epoch 4/50\n",
      "\u001b[1m19/19\u001b[0m \u001b[32m━━━━━━━━━━━━━━━━━━━━\u001b[0m\u001b[37m\u001b[0m \u001b[1m0s\u001b[0m 2ms/step - accuracy: 0.7439 - loss: 0.5502 - val_accuracy: 0.7791 - val_loss: 0.5110\n",
      "Epoch 5/50\n",
      "\u001b[1m19/19\u001b[0m \u001b[32m━━━━━━━━━━━━━━━━━━━━\u001b[0m\u001b[37m\u001b[0m \u001b[1m0s\u001b[0m 2ms/step - accuracy: 0.7631 - loss: 0.5281 - val_accuracy: 0.8140 - val_loss: 0.4524\n",
      "Epoch 6/50\n",
      "\u001b[1m19/19\u001b[0m \u001b[32m━━━━━━━━━━━━━━━━━━━━\u001b[0m\u001b[37m\u001b[0m \u001b[1m0s\u001b[0m 2ms/step - accuracy: 0.7502 - loss: 0.4851 - val_accuracy: 0.8140 - val_loss: 0.4443\n",
      "Epoch 7/50\n",
      "\u001b[1m19/19\u001b[0m \u001b[32m━━━━━━━━━━━━━━━━━━━━\u001b[0m\u001b[37m\u001b[0m \u001b[1m0s\u001b[0m 2ms/step - accuracy: 0.7587 - loss: 0.5006 - val_accuracy: 0.8256 - val_loss: 0.4285\n",
      "Epoch 8/50\n",
      "\u001b[1m19/19\u001b[0m \u001b[32m━━━━━━━━━━━━━━━━━━━━\u001b[0m\u001b[37m\u001b[0m \u001b[1m0s\u001b[0m 2ms/step - accuracy: 0.7656 - loss: 0.4625 - val_accuracy: 0.7907 - val_loss: 0.4445\n",
      "Epoch 9/50\n",
      "\u001b[1m19/19\u001b[0m \u001b[32m━━━━━━━━━━━━━━━━━━━━\u001b[0m\u001b[37m\u001b[0m \u001b[1m0s\u001b[0m 1ms/step - accuracy: 0.7495 - loss: 0.4928 - val_accuracy: 0.8256 - val_loss: 0.4266\n",
      "Epoch 10/50\n",
      "\u001b[1m19/19\u001b[0m \u001b[32m━━━━━━━━━━━━━━━━━━━━\u001b[0m\u001b[37m\u001b[0m \u001b[1m0s\u001b[0m 2ms/step - accuracy: 0.7550 - loss: 0.4817 - val_accuracy: 0.8256 - val_loss: 0.4309\n",
      "Epoch 11/50\n",
      "\u001b[1m19/19\u001b[0m \u001b[32m━━━━━━━━━━━━━━━━━━━━\u001b[0m\u001b[37m\u001b[0m \u001b[1m0s\u001b[0m 2ms/step - accuracy: 0.7762 - loss: 0.4468 - val_accuracy: 0.7674 - val_loss: 0.4790\n",
      "Epoch 12/50\n",
      "\u001b[1m19/19\u001b[0m \u001b[32m━━━━━━━━━━━━━━━━━━━━\u001b[0m\u001b[37m\u001b[0m \u001b[1m0s\u001b[0m 2ms/step - accuracy: 0.7873 - loss: 0.4230 - val_accuracy: 0.7907 - val_loss: 0.4323\n",
      "Epoch 13/50\n",
      "\u001b[1m19/19\u001b[0m \u001b[32m━━━━━━━━━━━━━━━━━━━━\u001b[0m\u001b[37m\u001b[0m \u001b[1m0s\u001b[0m 2ms/step - accuracy: 0.7962 - loss: 0.4283 - val_accuracy: 0.7674 - val_loss: 0.4663\n",
      "Epoch 14/50\n",
      "\u001b[1m19/19\u001b[0m \u001b[32m━━━━━━━━━━━━━━━━━━━━\u001b[0m\u001b[37m\u001b[0m \u001b[1m0s\u001b[0m 2ms/step - accuracy: 0.7774 - loss: 0.4308 - val_accuracy: 0.7791 - val_loss: 0.4658\n",
      "Epoch 15/50\n",
      "\u001b[1m19/19\u001b[0m \u001b[32m━━━━━━━━━━━━━━━━━━━━\u001b[0m\u001b[37m\u001b[0m \u001b[1m0s\u001b[0m 2ms/step - accuracy: 0.7665 - loss: 0.4391 - val_accuracy: 0.7558 - val_loss: 0.4385\n",
      "Epoch 16/50\n",
      "\u001b[1m19/19\u001b[0m \u001b[32m━━━━━━━━━━━━━━━━━━━━\u001b[0m\u001b[37m\u001b[0m \u001b[1m0s\u001b[0m 2ms/step - accuracy: 0.8030 - loss: 0.4302 - val_accuracy: 0.7558 - val_loss: 0.4708\n",
      "Epoch 17/50\n",
      "\u001b[1m19/19\u001b[0m \u001b[32m━━━━━━━━━━━━━━━━━━━━\u001b[0m\u001b[37m\u001b[0m \u001b[1m0s\u001b[0m 2ms/step - accuracy: 0.8053 - loss: 0.4251 - val_accuracy: 0.8372 - val_loss: 0.4314\n",
      "Epoch 18/50\n",
      "\u001b[1m19/19\u001b[0m \u001b[32m━━━━━━━━━━━━━━━━━━━━\u001b[0m\u001b[37m\u001b[0m \u001b[1m0s\u001b[0m 2ms/step - accuracy: 0.7879 - loss: 0.4418 - val_accuracy: 0.7558 - val_loss: 0.4659\n",
      "Epoch 19/50\n",
      "\u001b[1m19/19\u001b[0m \u001b[32m━━━━━━━━━━━━━━━━━━━━\u001b[0m\u001b[37m\u001b[0m \u001b[1m0s\u001b[0m 2ms/step - accuracy: 0.7750 - loss: 0.4442 - val_accuracy: 0.7558 - val_loss: 0.4603\n",
      "Epoch 20/50\n",
      "\u001b[1m19/19\u001b[0m \u001b[32m━━━━━━━━━━━━━━━━━━━━\u001b[0m\u001b[37m\u001b[0m \u001b[1m0s\u001b[0m 2ms/step - accuracy: 0.7902 - loss: 0.4440 - val_accuracy: 0.7558 - val_loss: 0.4527\n",
      "Epoch 21/50\n",
      "\u001b[1m19/19\u001b[0m \u001b[32m━━━━━━━━━━━━━━━━━━━━\u001b[0m\u001b[37m\u001b[0m \u001b[1m0s\u001b[0m 2ms/step - accuracy: 0.7692 - loss: 0.4354 - val_accuracy: 0.7558 - val_loss: 0.4533\n",
      "Epoch 22/50\n",
      "\u001b[1m19/19\u001b[0m \u001b[32m━━━━━━━━━━━━━━━━━━━━\u001b[0m\u001b[37m\u001b[0m \u001b[1m0s\u001b[0m 2ms/step - accuracy: 0.7850 - loss: 0.4325 - val_accuracy: 0.7674 - val_loss: 0.4594\n",
      "Epoch 23/50\n",
      "\u001b[1m19/19\u001b[0m \u001b[32m━━━━━━━━━━━━━━━━━━━━\u001b[0m\u001b[37m\u001b[0m \u001b[1m0s\u001b[0m 2ms/step - accuracy: 0.7782 - loss: 0.4160 - val_accuracy: 0.7558 - val_loss: 0.4585\n",
      "Epoch 24/50\n",
      "\u001b[1m19/19\u001b[0m \u001b[32m━━━━━━━━━━━━━━━━━━━━\u001b[0m\u001b[37m\u001b[0m \u001b[1m0s\u001b[0m 2ms/step - accuracy: 0.7817 - loss: 0.4343 - val_accuracy: 0.7558 - val_loss: 0.4762\n",
      "Epoch 25/50\n",
      "\u001b[1m19/19\u001b[0m \u001b[32m━━━━━━━━━━━━━━━━━━━━\u001b[0m\u001b[37m\u001b[0m \u001b[1m0s\u001b[0m 2ms/step - accuracy: 0.7903 - loss: 0.4372 - val_accuracy: 0.7558 - val_loss: 0.4470\n",
      "Epoch 26/50\n",
      "\u001b[1m19/19\u001b[0m \u001b[32m━━━━━━━━━━━━━━━━━━━━\u001b[0m\u001b[37m\u001b[0m \u001b[1m0s\u001b[0m 2ms/step - accuracy: 0.8051 - loss: 0.4080 - val_accuracy: 0.7558 - val_loss: 0.4801\n",
      "Epoch 27/50\n",
      "\u001b[1m19/19\u001b[0m \u001b[32m━━━━━━━━━━━━━━━━━━━━\u001b[0m\u001b[37m\u001b[0m \u001b[1m0s\u001b[0m 2ms/step - accuracy: 0.8000 - loss: 0.4100 - val_accuracy: 0.7558 - val_loss: 0.4620\n",
      "Epoch 28/50\n",
      "\u001b[1m19/19\u001b[0m \u001b[32m━━━━━━━━━━━━━━━━━━━━\u001b[0m\u001b[37m\u001b[0m \u001b[1m0s\u001b[0m 2ms/step - accuracy: 0.7604 - loss: 0.4590 - val_accuracy: 0.8140 - val_loss: 0.4562\n",
      "Epoch 29/50\n",
      "\u001b[1m19/19\u001b[0m \u001b[32m━━━━━━━━━━━━━━━━━━━━\u001b[0m\u001b[37m\u001b[0m \u001b[1m0s\u001b[0m 2ms/step - accuracy: 0.7891 - loss: 0.4395 - val_accuracy: 0.7442 - val_loss: 0.4515\n",
      "Epoch 30/50\n",
      "\u001b[1m19/19\u001b[0m \u001b[32m━━━━━━━━━━━━━━━━━━━━\u001b[0m\u001b[37m\u001b[0m \u001b[1m0s\u001b[0m 2ms/step - accuracy: 0.8013 - loss: 0.4262 - val_accuracy: 0.7558 - val_loss: 0.4637\n",
      "Epoch 31/50\n",
      "\u001b[1m19/19\u001b[0m \u001b[32m━━━━━━━━━━━━━━━━━━━━\u001b[0m\u001b[37m\u001b[0m \u001b[1m0s\u001b[0m 2ms/step - accuracy: 0.8171 - loss: 0.4012 - val_accuracy: 0.7558 - val_loss: 0.4581\n",
      "Epoch 32/50\n",
      "\u001b[1m19/19\u001b[0m \u001b[32m━━━━━━━━━━━━━━━━━━━━\u001b[0m\u001b[37m\u001b[0m \u001b[1m0s\u001b[0m 2ms/step - accuracy: 0.7975 - loss: 0.4187 - val_accuracy: 0.7558 - val_loss: 0.4618\n",
      "Epoch 33/50\n",
      "\u001b[1m19/19\u001b[0m \u001b[32m━━━━━━━━━━━━━━━━━━━━\u001b[0m\u001b[37m\u001b[0m \u001b[1m0s\u001b[0m 2ms/step - accuracy: 0.7988 - loss: 0.4003 - val_accuracy: 0.7442 - val_loss: 0.4593\n",
      "Epoch 34/50\n",
      "\u001b[1m19/19\u001b[0m \u001b[32m━━━━━━━━━━━━━━━━━━━━\u001b[0m\u001b[37m\u001b[0m \u001b[1m0s\u001b[0m 2ms/step - accuracy: 0.8152 - loss: 0.3919 - val_accuracy: 0.7209 - val_loss: 0.5247\n",
      "Epoch 35/50\n",
      "\u001b[1m19/19\u001b[0m \u001b[32m━━━━━━━━━━━━━━━━━━━━\u001b[0m\u001b[37m\u001b[0m \u001b[1m0s\u001b[0m 2ms/step - accuracy: 0.7882 - loss: 0.4205 - val_accuracy: 0.7674 - val_loss: 0.4737\n",
      "Epoch 36/50\n",
      "\u001b[1m19/19\u001b[0m \u001b[32m━━━━━━━━━━━━━━━━━━━━\u001b[0m\u001b[37m\u001b[0m \u001b[1m0s\u001b[0m 1ms/step - accuracy: 0.8186 - loss: 0.3812 - val_accuracy: 0.7674 - val_loss: 0.4885\n",
      "Epoch 37/50\n",
      "\u001b[1m19/19\u001b[0m \u001b[32m━━━━━━━━━━━━━━━━━━━━\u001b[0m\u001b[37m\u001b[0m \u001b[1m0s\u001b[0m 1ms/step - accuracy: 0.8056 - loss: 0.4045 - val_accuracy: 0.7558 - val_loss: 0.4624\n",
      "Epoch 38/50\n",
      "\u001b[1m19/19\u001b[0m \u001b[32m━━━━━━━━━━━━━━━━━━━━\u001b[0m\u001b[37m\u001b[0m \u001b[1m0s\u001b[0m 2ms/step - accuracy: 0.7776 - loss: 0.4155 - val_accuracy: 0.7558 - val_loss: 0.5040\n",
      "Epoch 39/50\n",
      "\u001b[1m19/19\u001b[0m \u001b[32m━━━━━━━━━━━━━━━━━━━━\u001b[0m\u001b[37m\u001b[0m \u001b[1m0s\u001b[0m 2ms/step - accuracy: 0.8113 - loss: 0.3815 - val_accuracy: 0.7674 - val_loss: 0.4862\n",
      "Epoch 40/50\n",
      "\u001b[1m19/19\u001b[0m \u001b[32m━━━━━━━━━━━━━━━━━━━━\u001b[0m\u001b[37m\u001b[0m \u001b[1m0s\u001b[0m 2ms/step - accuracy: 0.8126 - loss: 0.3883 - val_accuracy: 0.7558 - val_loss: 0.4992\n",
      "Epoch 41/50\n",
      "\u001b[1m19/19\u001b[0m \u001b[32m━━━━━━━━━━━━━━━━━━━━\u001b[0m\u001b[37m\u001b[0m \u001b[1m0s\u001b[0m 2ms/step - accuracy: 0.8116 - loss: 0.3744 - val_accuracy: 0.7674 - val_loss: 0.4858\n",
      "Epoch 42/50\n",
      "\u001b[1m19/19\u001b[0m \u001b[32m━━━━━━━━━━━━━━━━━━━━\u001b[0m\u001b[37m\u001b[0m \u001b[1m0s\u001b[0m 2ms/step - accuracy: 0.8043 - loss: 0.4012 - val_accuracy: 0.7674 - val_loss: 0.4940\n",
      "Epoch 43/50\n",
      "\u001b[1m19/19\u001b[0m \u001b[32m━━━━━━━━━━━━━━━━━━━━\u001b[0m\u001b[37m\u001b[0m \u001b[1m0s\u001b[0m 2ms/step - accuracy: 0.7669 - loss: 0.4436 - val_accuracy: 0.7791 - val_loss: 0.4878\n",
      "Epoch 44/50\n",
      "\u001b[1m19/19\u001b[0m \u001b[32m━━━━━━━━━━━━━━━━━━━━\u001b[0m\u001b[37m\u001b[0m \u001b[1m0s\u001b[0m 2ms/step - accuracy: 0.8058 - loss: 0.4038 - val_accuracy: 0.7442 - val_loss: 0.4724\n",
      "Epoch 45/50\n",
      "\u001b[1m19/19\u001b[0m \u001b[32m━━━━━━━━━━━━━━━━━━━━\u001b[0m\u001b[37m\u001b[0m \u001b[1m0s\u001b[0m 2ms/step - accuracy: 0.7782 - loss: 0.4077 - val_accuracy: 0.7674 - val_loss: 0.4828\n",
      "Epoch 46/50\n",
      "\u001b[1m19/19\u001b[0m \u001b[32m━━━━━━━━━━━━━━━━━━━━\u001b[0m\u001b[37m\u001b[0m \u001b[1m0s\u001b[0m 2ms/step - accuracy: 0.8021 - loss: 0.4048 - val_accuracy: 0.7558 - val_loss: 0.4783\n",
      "Epoch 47/50\n",
      "\u001b[1m19/19\u001b[0m \u001b[32m━━━━━━━━━━━━━━━━━━━━\u001b[0m\u001b[37m\u001b[0m \u001b[1m0s\u001b[0m 2ms/step - accuracy: 0.7920 - loss: 0.4291 - val_accuracy: 0.7674 - val_loss: 0.4757\n",
      "Epoch 48/50\n",
      "\u001b[1m19/19\u001b[0m \u001b[32m━━━━━━━━━━━━━━━━━━━━\u001b[0m\u001b[37m\u001b[0m \u001b[1m0s\u001b[0m 1ms/step - accuracy: 0.8203 - loss: 0.3823 - val_accuracy: 0.7558 - val_loss: 0.4970\n",
      "Epoch 49/50\n",
      "\u001b[1m19/19\u001b[0m \u001b[32m━━━━━━━━━━━━━━━━━━━━\u001b[0m\u001b[37m\u001b[0m \u001b[1m0s\u001b[0m 2ms/step - accuracy: 0.7971 - loss: 0.3891 - val_accuracy: 0.7674 - val_loss: 0.4946\n",
      "Epoch 50/50\n",
      "\u001b[1m19/19\u001b[0m \u001b[32m━━━━━━━━━━━━━━━━━━━━\u001b[0m\u001b[37m\u001b[0m \u001b[1m0s\u001b[0m 2ms/step - accuracy: 0.8057 - loss: 0.3578 - val_accuracy: 0.7558 - val_loss: 0.5045\n",
      "\u001b[1m3/3\u001b[0m \u001b[32m━━━━━━━━━━━━━━━━━━━━\u001b[0m\u001b[37m\u001b[0m \u001b[1m0s\u001b[0m 9ms/step \n",
      "Accuracy: 0.81\n",
      "Confusion Matrix:\n",
      "[[41 10]\n",
      " [ 5 21]]\n",
      "Classification Report:\n",
      "              precision    recall  f1-score   support\n",
      "\n",
      "         0.0       0.89      0.80      0.85        51\n",
      "         1.0       0.68      0.81      0.74        26\n",
      "\n",
      "    accuracy                           0.81        77\n",
      "   macro avg       0.78      0.81      0.79        77\n",
      "weighted avg       0.82      0.81      0.81        77\n",
      "\n"
     ]
    }
   ],
   "source": [
    "import tensorflow as tf\n",
    "from tensorflow.keras.models import Sequential\n",
    "from tensorflow.keras.layers import Dense\n",
    "\n",
    "# Define the neural network model\n",
    "model = Sequential([\n",
    "    Dense(128, activation='relu', input_shape=(train_inputs.shape[1],)),  # Input layer with 64 neurons, relu activation\n",
    "    Dense(64, activation='relu'),  # Hidden layer with 32 neurons, relu activation\n",
    "    Dense(32, activation='relu'),\n",
    "    Dense(1, activation='sigmoid')  # Output layer with sigmoid activation (for binary classification)\n",
    "])\n",
    "\n",
    "# Compile the model\n",
    "model.compile(optimizer='adam',\n",
    "              loss='binary_crossentropy',  # Binary crossentropy for binary classification\n",
    "              metrics=['accuracy'])\n",
    "\n",
    "# Train the model with validation data\n",
    "history = model.fit(train_inputs, train_targets, \n",
    "                    epochs=50, batch_size=32, verbose=1,\n",
    "                    validation_data=(validation_inputs, validation_targets))\n",
    "\n",
    "# Predicting on the test set\n",
    "y_pred_proba = model.predict(test_inputs)  # Predict probabilities\n",
    "y_pred = (y_pred_proba > 0.5).astype('int32')  # Convert probabilities to binary predictions\n",
    "\n",
    "# Evaluate model performance\n",
    "nn_accuracy = accuracy_score(test_targets, y_pred)\n",
    "conf_matrix = confusion_matrix(test_targets, y_pred)\n",
    "class_report = classification_report(test_targets, y_pred)\n",
    "\n",
    "print(f'Accuracy: {nn_accuracy:.2f}')\n",
    "print(f'Confusion Matrix:\\n{conf_matrix}')\n",
    "print(f'Classification Report:\\n{class_report}')\n"
   ]
  },
  {
   "cell_type": "markdown",
   "metadata": {},
   "source": [
    "### Accuracies\n"
   ]
  },
  {
   "cell_type": "code",
   "execution_count": 16,
   "metadata": {},
   "outputs": [
    {
     "name": "stderr",
     "output_type": "stream",
     "text": [
      "C:\\Users\\Atharva\\AppData\\Local\\Temp\\ipykernel_14424\\1859578244.py:7: FutureWarning: \n",
      "\n",
      "Passing `palette` without assigning `hue` is deprecated and will be removed in v0.14.0. Assign the `x` variable to `hue` and set `legend=False` for the same effect.\n",
      "\n",
      "  sns.barplot(x=models, y=accuracies, palette='viridis')\n"
     ]
    },
    {
     "data": {
      "image/png": "[encoded data removed]",
      "text/plain": [
       "<Figure size 1000x600 with 1 Axes>"
      ]
     },
     "metadata": {},
     "output_type": "display_data"
    }
   ],
   "source": [
    "# List of models and their accuracies\n",
    "models = ['Logistic Regression', 'Decision Tree', 'Random Forest', 'SVM', 'Neural Network']\n",
    "accuracies = [lr_accuracy, dt_accuracy, rf_accuracy, svm_accuracy, nn_accuracy]\n",
    "\n",
    "# Plotting using Seaborn\n",
    "plt.figure(figsize=(10, 6))\n",
    "sns.barplot(x=models, y=accuracies, palette='viridis')\n",
    "plt.ylim(0.6, 0.9)  # Adjust the y-axis limits if needed\n",
    "plt.title('Comparison of Model Accuracies')\n",
    "plt.xlabel('Models')\n",
    "plt.ylabel('Accuracy')\n",
    "plt.xticks(rotation=45)\n",
    "plt.tight_layout()\n",
    "plt.show()"
   ]
  }
 ],
 "metadata": {
  "kernelspec": {
   "display_name": "py_tf",
   "language": "python",
   "name": "python3"
  },
  "language_info": {
   "codemirror_mode": {
    "name": "ipython",
    "version": 3
   },
   "file_extension": ".py",
   "mimetype": "text/x-python",
   "name": "python",
   "nbconvert_exporter": "python",
   "pygments_lexer": "ipython3",
   "version": "3.11.9"
  }
 },
 "nbformat": 4,
 "nbformat_minor": 2
}
